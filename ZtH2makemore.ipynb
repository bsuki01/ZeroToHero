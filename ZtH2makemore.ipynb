{
 "cells": [
  {
   "cell_type": "code",
   "execution_count": 2,
   "id": "268c1f03-50e1-40f1-8eb9-bdbfbc5ae64c",
   "metadata": {},
   "outputs": [],
   "source": [
    "import torch\n",
    "import torch.nn.functional as F\n",
    "import matplotlib.pyplot as plt\n",
    "%matplotlib inline"
   ]
  },
  {
   "cell_type": "code",
   "execution_count": 3,
   "id": "948d4d1e-639d-46f5-a30b-2b918c53b6ec",
   "metadata": {},
   "outputs": [
    {
     "name": "stdout",
     "output_type": "stream",
     "text": [
      "Not running on GPU\n"
     ]
    }
   ],
   "source": [
    "if torch.cuda.is_available():\n",
    "    print(f\"Running on GPU: {torch.cuda.get_device_name(0)}\")\n",
    "else:\n",
    "    print(\"Not running on GPU\")\n"
   ]
  },
  {
   "cell_type": "code",
   "execution_count": 4,
   "id": "f0ff1fb0-833c-4749-948f-32add771fd15",
   "metadata": {},
   "outputs": [
    {
     "data": {
      "text/plain": [
       "['emma', 'olivia', 'ava', 'isabella', 'sophia', 'charlotte', 'mia', 'amelia']"
      ]
     },
     "execution_count": 4,
     "metadata": {},
     "output_type": "execute_result"
    }
   ],
   "source": [
    "words = open('names.txt', 'r').read().splitlines()\n",
    "words[:8]"
   ]
  },
  {
   "cell_type": "code",
   "execution_count": 5,
   "id": "9cb115e8-c4ad-4bc6-9eed-9ddcb235ab36",
   "metadata": {},
   "outputs": [
    {
     "data": {
      "text/plain": [
       "32033"
      ]
     },
     "execution_count": 5,
     "metadata": {},
     "output_type": "execute_result"
    }
   ],
   "source": [
    "len(words)"
   ]
  },
  {
   "cell_type": "code",
   "execution_count": 6,
   "id": "d5ea6337-223c-457a-ab90-9d7c1da6e913",
   "metadata": {},
   "outputs": [
    {
     "name": "stdout",
     "output_type": "stream",
     "text": [
      "{1: 'a', 2: 'b', 3: 'c', 4: 'd', 5: 'e', 6: 'f', 7: 'g', 8: 'h', 9: 'i', 10: 'j', 11: 'k', 12: 'l', 13: 'm', 14: 'n', 15: 'o', 16: 'p', 17: 'q', 18: 'r', 19: 's', 20: 't', 21: 'u', 22: 'v', 23: 'w', 24: 'x', 25: 'y', 26: 'z', 0: '.'}\n"
     ]
    }
   ],
   "source": [
    "chars = sorted(list(set(''.join(words))))\n",
    "stoi = {s: i+1 for i,s in enumerate(chars)}\n",
    "stoi['.'] = 0 # character key, integer value (dictionary)\n",
    "itos = {i:s for s, i in stoi.items()}\n",
    "print(itos)"
   ]
  },
  {
   "cell_type": "code",
   "execution_count": 62,
   "id": "ae28f612-e147-4241-82f5-415f307b92d0",
   "metadata": {},
   "outputs": [],
   "source": [
    "# \n",
    "block_size = 3\n",
    "X, Y = [], []\n",
    "for w in words[:5]:\n",
    "\n",
    "    # print(w)\n",
    "    context = [0] * block_size\n",
    "    for ch in w + '.':\n",
    "        ix = stoi[ch]\n",
    "        X.append(context)\n",
    "        Y.append(ix)\n",
    "        # print(''.join(itos[i] for i in context), '--->', itos[ix])\n",
    "        context = context[1:] + [ix]\n",
    "\n",
    "X = torch.tensor(X)\n",
    "Y = torch.tensor(Y)"
   ]
  },
  {
   "cell_type": "code",
   "execution_count": 61,
   "id": "74e5b85e-94d9-4a25-b118-64a64eebad39",
   "metadata": {},
   "outputs": [
    {
     "data": {
      "text/plain": [
       "(torch.Size([36, 4]), torch.int64, torch.Size([36]), torch.int64)"
      ]
     },
     "execution_count": 61,
     "metadata": {},
     "output_type": "execute_result"
    }
   ],
   "source": [
    "X.shape, X.dtype, Y.shape, Y.dtype"
   ]
  },
  {
   "cell_type": "code",
   "execution_count": 9,
   "id": "bbf99c80-d3ab-4c67-979c-09621370e28a",
   "metadata": {},
   "outputs": [
    {
     "data": {
      "text/plain": [
       "tensor([[ 0,  0,  0],\n",
       "        [ 0,  0,  5],\n",
       "        [ 0,  5, 13],\n",
       "        ...,\n",
       "        [26, 26, 25],\n",
       "        [26, 25, 26],\n",
       "        [25, 26, 24]])"
      ]
     },
     "execution_count": 9,
     "metadata": {},
     "output_type": "execute_result"
    }
   ],
   "source": [
    "X"
   ]
  },
  {
   "cell_type": "code",
   "execution_count": 10,
   "id": "833f3760-8c0b-424f-9c8e-834472b5730a",
   "metadata": {},
   "outputs": [
    {
     "data": {
      "text/plain": [
       "tensor([ 5, 13, 13,  ..., 26, 24,  0])"
      ]
     },
     "execution_count": 10,
     "metadata": {},
     "output_type": "execute_result"
    }
   ],
   "source": [
    "Y"
   ]
  },
  {
   "cell_type": "code",
   "execution_count": 11,
   "id": "d8b92983-fd32-4f61-b0cf-7e4c0a9447aa",
   "metadata": {},
   "outputs": [],
   "source": [
    "C = torch.randn((27,2))\n",
    "# lookup table "
   ]
  },
  {
   "cell_type": "code",
   "execution_count": 12,
   "id": "f0cbf674-a8fd-4a64-ade9-bdc5910c1599",
   "metadata": {},
   "outputs": [
    {
     "data": {
      "text/plain": [
       "tensor([-0.1629, -0.3168])"
      ]
     },
     "execution_count": 12,
     "metadata": {},
     "output_type": "execute_result"
    }
   ],
   "source": [
    "C[5]"
   ]
  },
  {
   "cell_type": "code",
   "execution_count": 13,
   "id": "a56e97fc-965c-425d-955a-4b903e33b349",
   "metadata": {},
   "outputs": [],
   "source": [
    "# F.one_hot(torch.tensor(5), num_classes = 27).float()"
   ]
  },
  {
   "cell_type": "code",
   "execution_count": 14,
   "id": "b4718bb8-6288-44c9-ab2f-333d203f0058",
   "metadata": {},
   "outputs": [],
   "source": [
    "# F.one_hot(torch.tensor(5), num_classes = 27).float() @ C"
   ]
  },
  {
   "cell_type": "code",
   "execution_count": 15,
   "id": "52990268-6d17-4360-89f9-a44ad11acfe7",
   "metadata": {},
   "outputs": [
    {
     "data": {
      "text/plain": [
       "torch.Size([228146, 3, 2])"
      ]
     },
     "execution_count": 15,
     "metadata": {},
     "output_type": "execute_result"
    }
   ],
   "source": [
    "C[X].shape"
   ]
  },
  {
   "cell_type": "code",
   "execution_count": 16,
   "id": "84b72e96-3be7-4979-9165-d07973bfac08",
   "metadata": {},
   "outputs": [
    {
     "data": {
      "text/plain": [
       "tensor(1)"
      ]
     },
     "execution_count": 16,
     "metadata": {},
     "output_type": "execute_result"
    }
   ],
   "source": [
    "X[13,2]"
   ]
  },
  {
   "cell_type": "code",
   "execution_count": 17,
   "id": "1a52e0d9-cb50-4525-a4d4-7077f0d74acf",
   "metadata": {},
   "outputs": [
    {
     "data": {
      "text/plain": [
       "tensor([ 0.2521, -0.8766])"
      ]
     },
     "execution_count": 17,
     "metadata": {},
     "output_type": "execute_result"
    }
   ],
   "source": [
    "C[X][13,2]"
   ]
  },
  {
   "cell_type": "code",
   "execution_count": 18,
   "id": "8fae0399-c223-40f4-999b-f8607da1ba04",
   "metadata": {},
   "outputs": [
    {
     "data": {
      "text/plain": [
       "tensor([ 0.2521, -0.8766])"
      ]
     },
     "execution_count": 18,
     "metadata": {},
     "output_type": "execute_result"
    }
   ],
   "source": [
    "C[1]"
   ]
  },
  {
   "cell_type": "code",
   "execution_count": 19,
   "id": "71895193-e526-4be8-82f3-2831c3945cd7",
   "metadata": {},
   "outputs": [
    {
     "data": {
      "text/plain": [
       "torch.Size([228146, 3, 2])"
      ]
     },
     "execution_count": 19,
     "metadata": {},
     "output_type": "execute_result"
    }
   ],
   "source": [
    "emb = C[X]\n",
    "emb.shape\n",
    "# input"
   ]
  },
  {
   "cell_type": "code",
   "execution_count": 20,
   "id": "b1cf69ee-68cb-439f-9dd4-cb0179d62209",
   "metadata": {},
   "outputs": [],
   "source": [
    "W1 = torch.randn((6,100))\n",
    "# 6 weights (3 inputs * 2 dimensionality), 100 neurons\n",
    "b1 = torch.randn(100)"
   ]
  },
  {
   "cell_type": "code",
   "execution_count": 21,
   "id": "593238e9-29d6-447f-bb52-3cf4b8187312",
   "metadata": {},
   "outputs": [],
   "source": [
    "h = torch.tanh(emb.view(-1,6) @ W1 + b1)"
   ]
  },
  {
   "cell_type": "code",
   "execution_count": 22,
   "id": "3eb2819c-8c95-4d84-b226-9adfdddd7226",
   "metadata": {},
   "outputs": [
    {
     "data": {
      "text/plain": [
       "tensor([[ 0.9608,  0.7078, -0.9962,  ..., -0.9962, -0.0133,  0.9983],\n",
       "        [ 0.9333, -0.7921, -0.9561,  ..., -0.9749,  0.9545,  0.9908],\n",
       "        [ 0.9822,  0.5886,  0.1895,  ..., -0.8567, -0.5049,  0.9976],\n",
       "        ...,\n",
       "        [ 0.6152, -0.5526,  0.3101,  ..., -0.3801,  0.5794,  0.9373],\n",
       "        [ 0.8535,  0.8032,  0.7354,  ..., -0.2699, -0.8213,  0.9786],\n",
       "        [-0.3883,  0.6498, -0.1658,  ..., -0.4332, -0.8702,  0.9310]])"
      ]
     },
     "execution_count": 22,
     "metadata": {},
     "output_type": "execute_result"
    }
   ],
   "source": [
    "h"
   ]
  },
  {
   "cell_type": "code",
   "execution_count": 23,
   "id": "80d86f1e-49ef-4929-b25c-0e51d7de9e4c",
   "metadata": {},
   "outputs": [
    {
     "data": {
      "text/plain": [
       "torch.Size([228146, 100])"
      ]
     },
     "execution_count": 23,
     "metadata": {},
     "output_type": "execute_result"
    }
   ],
   "source": [
    "h.shape"
   ]
  },
  {
   "cell_type": "code",
   "execution_count": 24,
   "id": "6aa95de7-0670-4ef9-bb47-2aece4411fad",
   "metadata": {},
   "outputs": [
    {
     "data": {
      "text/plain": [
       "torch.Size([228146, 6])"
      ]
     },
     "execution_count": 24,
     "metadata": {},
     "output_type": "execute_result"
    }
   ],
   "source": [
    "torch.cat([emb[:, 0,:], emb[:, 1,:], emb[:, 2,:]], 1).shape"
   ]
  },
  {
   "cell_type": "code",
   "execution_count": 25,
   "id": "73ed36a7-2bba-4e4c-8adc-af8b81be4427",
   "metadata": {},
   "outputs": [
    {
     "data": {
      "text/plain": [
       "torch.Size([228146, 6])"
      ]
     },
     "execution_count": 25,
     "metadata": {},
     "output_type": "execute_result"
    }
   ],
   "source": [
    "torch.cat(torch.unbind(emb, 1), 1).shape"
   ]
  },
  {
   "cell_type": "code",
   "execution_count": 26,
   "id": "a29fbadd-a2a9-4666-be0a-e80af22ea80e",
   "metadata": {},
   "outputs": [
    {
     "data": {
      "text/plain": [
       "tensor([ 0,  1,  2,  3,  4,  5,  6,  7,  8,  9, 10, 11, 12, 13, 14, 15, 16, 17])"
      ]
     },
     "execution_count": 26,
     "metadata": {},
     "output_type": "execute_result"
    }
   ],
   "source": [
    "a = torch.arange(18)\n",
    "a"
   ]
  },
  {
   "cell_type": "code",
   "execution_count": 27,
   "id": "be283f51-4026-413c-a942-85403b02e9f3",
   "metadata": {},
   "outputs": [
    {
     "data": {
      "text/plain": [
       "torch.Size([18])"
      ]
     },
     "execution_count": 27,
     "metadata": {},
     "output_type": "execute_result"
    }
   ],
   "source": [
    "a.shape"
   ]
  },
  {
   "cell_type": "code",
   "execution_count": 28,
   "id": "a1a6c6a9-133d-425d-bfcb-035f852c3c95",
   "metadata": {},
   "outputs": [
    {
     "data": {
      "text/plain": [
       "tensor([[[ 0,  1,  2],\n",
       "         [ 3,  4,  5]],\n",
       "\n",
       "        [[ 6,  7,  8],\n",
       "         [ 9, 10, 11]],\n",
       "\n",
       "        [[12, 13, 14],\n",
       "         [15, 16, 17]]])"
      ]
     },
     "execution_count": 28,
     "metadata": {},
     "output_type": "execute_result"
    }
   ],
   "source": [
    "a.view(3,2,3)"
   ]
  },
  {
   "cell_type": "code",
   "execution_count": 29,
   "id": "01509d08-70bd-4323-a435-23f3d59087f9",
   "metadata": {
    "scrolled": true
   },
   "outputs": [],
   "source": [
    "# a.storage()"
   ]
  },
  {
   "cell_type": "code",
   "execution_count": 30,
   "id": "8463635f-4d5d-4f21-83bf-e6470e3a1b8d",
   "metadata": {
    "scrolled": true
   },
   "outputs": [],
   "source": [
    "# emb.view(32, 6) == torch.cat(torch.unbind(emb, 1), 1)"
   ]
  },
  {
   "cell_type": "code",
   "execution_count": 31,
   "id": "dfef81cf-73e3-49b3-8047-b510c071a5a5",
   "metadata": {},
   "outputs": [],
   "source": [
    "W2 = torch.randn((100,27))\n",
    "# 100 inputs (past neurons) to 27 outputs (neurons for possible letter outputs)\n",
    "b2 = torch.randn(27)"
   ]
  },
  {
   "cell_type": "code",
   "execution_count": 32,
   "id": "eecd0f21-1f87-49bc-a540-29e9fe9642d5",
   "metadata": {},
   "outputs": [],
   "source": [
    "logits = h @ W2 + b2\n",
    "# ^ outputs of neural net"
   ]
  },
  {
   "cell_type": "code",
   "execution_count": 33,
   "id": "488ea5bb-7284-4b29-b64f-5863763d682e",
   "metadata": {},
   "outputs": [
    {
     "data": {
      "text/plain": [
       "torch.Size([228146, 27])"
      ]
     },
     "execution_count": 33,
     "metadata": {},
     "output_type": "execute_result"
    }
   ],
   "source": [
    "logits.shape"
   ]
  },
  {
   "cell_type": "code",
   "execution_count": 34,
   "id": "cd5d4736-0ab6-46b5-aca5-21a3cebcf0fe",
   "metadata": {
    "scrolled": true
   },
   "outputs": [
    {
     "data": {
      "text/plain": [
       "tensor([[  4.4214,  -9.4018, -11.2197,  ...,  15.8643,  -5.7515, -10.5196],\n",
       "        [ 16.8104,  -8.8690,  -3.7558,  ...,   9.9349, -10.2777,   0.1607],\n",
       "        [ -0.2401,  -1.1969,  -3.3854,  ...,  -0.4258,  -5.1244,   6.4437],\n",
       "        ...,\n",
       "        [  3.0707,  -7.0193,   6.4316,  ...,  -3.0526,  -6.2131,   7.2560],\n",
       "        [ -3.1457,  -3.6714,   4.8322,  ...,  -5.2289,  -3.8061,   5.9667],\n",
       "        [ -6.7270,  -5.9049,  14.4003,  ...,  -0.7992,  -3.7090, -12.3647]])"
      ]
     },
     "execution_count": 34,
     "metadata": {},
     "output_type": "execute_result"
    }
   ],
   "source": [
    "logits"
   ]
  },
  {
   "cell_type": "code",
   "execution_count": 35,
   "id": "d9635fb3-657e-4d96-b07d-0a97e12ee4a1",
   "metadata": {},
   "outputs": [],
   "source": [
    "count = logits.exp()"
   ]
  },
  {
   "cell_type": "code",
   "execution_count": 36,
   "id": "e1f2d13b-5496-48cb-860a-a7d60c23204c",
   "metadata": {},
   "outputs": [],
   "source": [
    "probs = count / count.sum(1, keepdims=True)"
   ]
  },
  {
   "cell_type": "code",
   "execution_count": 37,
   "id": "74990fc4-3ae6-40bc-9a02-b900eeda7687",
   "metadata": {},
   "outputs": [
    {
     "data": {
      "text/plain": [
       "torch.Size([228146, 27])"
      ]
     },
     "execution_count": 37,
     "metadata": {},
     "output_type": "execute_result"
    }
   ],
   "source": [
    "probs.shape"
   ]
  },
  {
   "cell_type": "code",
   "execution_count": 38,
   "id": "e801ffe4-02f8-49ca-978b-8f9c667c74c3",
   "metadata": {},
   "outputs": [
    {
     "data": {
      "text/plain": [
       "tensor(1.0000)"
      ]
     },
     "execution_count": 38,
     "metadata": {},
     "output_type": "execute_result"
    }
   ],
   "source": [
    "probs[0].sum()"
   ]
  },
  {
   "cell_type": "code",
   "execution_count": 39,
   "id": "00968af1-25c1-4c62-971e-48162a068b1c",
   "metadata": {},
   "outputs": [
    {
     "data": {
      "text/plain": [
       "tensor([ 0,  1,  2,  3,  4,  5,  6,  7,  8,  9, 10, 11, 12, 13, 14, 15, 16, 17,\n",
       "        18, 19, 20, 21, 22, 23, 24, 25, 26, 27, 28, 29, 30, 31])"
      ]
     },
     "execution_count": 39,
     "metadata": {},
     "output_type": "execute_result"
    }
   ],
   "source": [
    "torch.arange(32)"
   ]
  },
  {
   "cell_type": "code",
   "execution_count": 40,
   "id": "c30cc895-9c4e-4352-8f53-7890d4c61498",
   "metadata": {},
   "outputs": [
    {
     "data": {
      "text/plain": [
       "tensor([ 5, 13, 13,  ..., 26, 24,  0])"
      ]
     },
     "execution_count": 40,
     "metadata": {},
     "output_type": "execute_result"
    }
   ],
   "source": [
    "Y"
   ]
  },
  {
   "cell_type": "code",
   "execution_count": 41,
   "id": "5450a2c5-87fe-4b42-bde1-6d65941cf7a2",
   "metadata": {},
   "outputs": [],
   "source": [
    "# loss = -probs[torch.arange(32), Y].log().mean()\n",
    "# loss\n",
    "# indexes into torch and assigns probability for each Y\n",
    "# take log, avg, and - to get neg loss likelihood"
   ]
  },
  {
   "cell_type": "code",
   "execution_count": 42,
   "id": "7b64043a-d003-49ad-b3f8-f72b9e984da2",
   "metadata": {},
   "outputs": [],
   "source": [
    "# ?>>>>>>>>>>>>>>>>>>>>>>>>>>>>> SUMMARY SO FAR:"
   ]
  },
  {
   "cell_type": "code",
   "execution_count": 43,
   "id": "893fdd48-c2a0-498c-9414-a71c955c6339",
   "metadata": {},
   "outputs": [
    {
     "name": "stdout",
     "output_type": "stream",
     "text": [
      "torch.Size([182625, 3]) torch.Size([182625])\n",
      "torch.Size([22655, 3]) torch.Size([22655])\n",
      "torch.Size([22866, 3]) torch.Size([22866])\n"
     ]
    }
   ],
   "source": [
    "def build_dataset(words):\n",
    "    block_size = 3\n",
    "    X, Y = [], []\n",
    "    for w in words:\n",
    "    \n",
    "        # print(w)\n",
    "        context = [0] * block_size \n",
    "        for ch in w + '.':\n",
    "            ix = stoi[ch]\n",
    "            X.append(context)\n",
    "            Y.append(ix)\n",
    "            # print(''.join(itos[i] for i in context), '--->', itos[ix])\n",
    "            context = context[1:] + [ix]\n",
    "    \n",
    "    X = torch.tensor(X)\n",
    "    Y = torch.tensor(Y)\n",
    "    print(X.shape, Y.shape)\n",
    "    return X, Y\n",
    "\n",
    "import random\n",
    "random.seed(42)\n",
    "random.shuffle(words)\n",
    "n1 = int(.8*len(words))\n",
    "n2 = int(.9*len(words))\n",
    "\n",
    "Xtr, Ytr = build_dataset(words[:n1])\n",
    "Xdev, Ydev = build_dataset(words[n1:n2])\n",
    "Xte, Yte = build_dataset(words[n2:])\n"
   ]
  },
  {
   "cell_type": "code",
   "execution_count": 44,
   "id": "c5fc3f9d-88b8-4984-bc53-361739d88232",
   "metadata": {},
   "outputs": [
    {
     "data": {
      "text/plain": [
       "(torch.Size([182625, 3]), torch.Size([182625]))"
      ]
     },
     "execution_count": 44,
     "metadata": {},
     "output_type": "execute_result"
    }
   ],
   "source": [
    "#dataset:\n",
    "Xtr.shape, Ytr.shape"
   ]
  },
  {
   "cell_type": "code",
   "execution_count": 45,
   "id": "0c831048-49d1-42b7-8175-b37ab9139e0b",
   "metadata": {},
   "outputs": [],
   "source": [
    "g = torch.Generator().manual_seed(2147483647)\n",
    "C = torch.randn((27,10), generator = g)\n",
    "W1 = torch.randn((30,200), generator = g)\n",
    "b1 = torch.randn(200, generator = g)\n",
    "# second layer - softmax\n",
    "W2 = torch.randn((200,27), generator = g)\n",
    "b2 = torch.randn(27, generator = g)\n",
    "parameters = [C, W1, b1, W2, b2]"
   ]
  },
  {
   "cell_type": "code",
   "execution_count": 46,
   "id": "287701e4-be47-4b74-bcb4-2208ddb47274",
   "metadata": {},
   "outputs": [
    {
     "data": {
      "text/plain": [
       "11897"
      ]
     },
     "execution_count": 46,
     "metadata": {},
     "output_type": "execute_result"
    }
   ],
   "source": [
    "sum(p.nelement() for p in parameters)"
   ]
  },
  {
   "cell_type": "code",
   "execution_count": 47,
   "id": "3917c25a-c367-455f-9425-88ce165c2136",
   "metadata": {},
   "outputs": [],
   "source": [
    "for p in parameters:\n",
    "    p.requires_grad = True"
   ]
  },
  {
   "cell_type": "code",
   "execution_count": 48,
   "id": "6ceaf2d2-81d0-4ca3-ab72-ee09b5f72210",
   "metadata": {
    "scrolled": true
   },
   "outputs": [],
   "source": [
    "lre = torch.linspace(-3, 0, 1000)\n",
    "lrs = 10**lre"
   ]
  },
  {
   "cell_type": "code",
   "execution_count": 49,
   "id": "f2d0aff0-81c5-4521-a82a-6a422a988b7a",
   "metadata": {},
   "outputs": [],
   "source": [
    "lri = []\n",
    "lossi = []\n",
    "stepi = []"
   ]
  },
  {
   "cell_type": "code",
   "execution_count": 56,
   "id": "8cba078f-d5bd-4986-b77d-00b9dd90c89c",
   "metadata": {
    "scrolled": true
   },
   "outputs": [
    {
     "name": "stdout",
     "output_type": "stream",
     "text": [
      "tensor([139288,  87035, 136043, 135015,  75962, 107768,  47617,  25979, 122147,\n",
      "        123765,  32144,  21357,  13020,  22591,   9479,  35447,  90210,  45700,\n",
      "        122597, 180362, 155072,  81829, 100130, 152603,  17333, 112946, 175695,\n",
      "         15209,  12380,  16879,  30914,  23507])\n",
      "tensor([[ 0,  0,  0],\n",
      "        [ 0,  0, 25],\n",
      "        [ 0, 25, 21],\n",
      "        ...,\n",
      "        [15, 12,  4],\n",
      "        [12,  4,  1],\n",
      "        [ 4,  1, 14]])\n",
      "torch.Size([182625, 3])\n"
     ]
    }
   ],
   "source": [
    "for i in range(1):\n",
    "\n",
    "    #minibatch\n",
    "    ix = torch.randint(0,Xtr.shape[0], (32,))\n",
    "    # (32,) = size: 1D tensor with 32 randomly-selected indices\n",
    "    print(ix)\n",
    "    \n",
    "    # forward pass\n",
    "    print(Xtr)f\n",
    "    print(Xtr.shape)\n",
    "    emb = C[Xtr[ix]] #(32, 3, 2)\n",
    "    h = torch.tanh(emb.view(-1,30) @ W1 + b1) # (32, 100)\n",
    "    logits = h @ W2 + b2 #(32, 27)\n",
    "    # count = logits.exp()\n",
    "    # probs = count / count.sum(1, keepdims=True)\n",
    "    # loss = -probs[torch.arange(32), Y].log().mean()\n",
    "    loss = F.cross_entropy(logits, Ytr[ix])\n",
    "    # print(loss.item())\n",
    "    \n",
    "    #backward pass\n",
    "    for p in parameters:\n",
    "        p.grad = None\n",
    "    loss.backward()\n",
    "    \n",
    "    # update\n",
    "    # lr = lrs[i]\n",
    "    lr = 0.1 if i < 100000 else 0.01\n",
    "    for p in parameters:\n",
    "        p.data += -lr * p.grad\n",
    "\n",
    "    #track stats\n",
    "    # lri.append(lre[i])\n",
    "    stepi.append(i)\n",
    "    # lossi.append(loss.item())\n",
    "    lossi.append(loss.log10().item())\n",
    "\n",
    "# print(loss.item())"
   ]
  },
  {
   "cell_type": "code",
   "execution_count": null,
   "id": "d716c278-da71-4fdd-b455-b30a1701293e",
   "metadata": {},
   "outputs": [],
   "source": [
    "# plt.plot(lri, lossi)\n",
    "plt.plot(stepi, lossi)"
   ]
  },
  {
   "cell_type": "markdown",
   "id": "aedff2fb-caca-49a7-aa61-f707f0439b06",
   "metadata": {},
   "source": [
    "torch.randint(0,X.shape[0], (32,))"
   ]
  },
  {
   "cell_type": "code",
   "execution_count": null,
   "id": "19bf51b7-4d22-4aa8-8ce8-1368b1205e55",
   "metadata": {},
   "outputs": [],
   "source": [
    "# training batch's loss:\n",
    "emb = C[Xtr] #(32, 3, 2)\n",
    "h = torch.tanh(emb.view(-1,40) @ W1 + b1) # (32, 100)\n",
    "logits = h @ W2 + b2 #(32, 27)\n",
    "loss = F.cross_entropy(logits, Ytr)\n",
    "loss"
   ]
  },
  {
   "cell_type": "code",
   "execution_count": null,
   "id": "0bea53f0-6858-4d9d-b2fc-762485ffd4d5",
   "metadata": {},
   "outputs": [],
   "source": [
    "# validation loss (beat 2.12):\n",
    "emb = C[Xdev] #(32, 3, 2)\n",
    "h = torch.tanh(emb.view(-1,40) @ W1 + b1) # (32, 100)\n",
    "logits = h @ W2 + b2 #(32, 27)\n",
    "loss = F.cross_entropy(logits, Ydev)\n",
    "loss"
   ]
  },
  {
   "cell_type": "code",
   "execution_count": null,
   "id": "ff7a4f46-8510-4a9a-acaa-99b2068b176d",
   "metadata": {},
   "outputs": [],
   "source": [
    "emb = C[Xte] #(32, 3, 2)\n",
    "h = torch.tanh(emb.view(-1,40) @ W1 + b1) # (32, 100)\n",
    "logits = h @ W2 + b2 #(32, 27)\n",
    "loss = F.cross_entropy(logits, Yte)\n",
    "loss"
   ]
  },
  {
   "cell_type": "code",
   "execution_count": null,
   "id": "8926999d-5ef5-4fed-bfc9-a3fe777c21f4",
   "metadata": {},
   "outputs": [],
   "source": [
    "plt.figure(figsize=(8,8))\n",
    "plt.scatter(C[:,0].data, C[:,1].data, s=200)\n",
    "for i in range(C.shape[0]):\n",
    "    plt.text(C[i,0].item(), C[i,1].item(), itos[i], ha=\"center\", va=\"center\", color=\"white\")\n",
    "plt.grid('minor')"
   ]
  },
  {
   "cell_type": "code",
   "execution_count": null,
   "id": "647b5f4a-d1b5-4aac-af7c-d3f0ac11bbb3",
   "metadata": {},
   "outputs": [],
   "source": [
    "# training split (80%), dev/validation split (10%), test split (10%)"
   ]
  },
  {
   "cell_type": "code",
   "execution_count": null,
   "id": "1e9bd913-a658-4866-9ef7-5614f3f03fd2",
   "metadata": {},
   "outputs": [],
   "source": [
    "# sample model:\n",
    "\n",
    "g = torch.Generator().manual_seed(2147483647+10)\n",
    "for _ in range(20):\n",
    "    out = []\n",
    "    context = [0] * block_size\n",
    "    while True:\n",
    "        emb = C[torch.tensor([context])]\n",
    "        h = torch.tanh(emb.view(1, -1) @ W1 +b1)\n",
    "        logits = h @ W2 + b2\n",
    "        probs = F.softmax(logits, dim=1)\n",
    "        ix = torch.multinomial(probs, num_samples = 1, generator=g).item()\n",
    "        context = context[1:] + [ix]\n",
    "        out.append(ix)\n",
    "        if ix == 0:\n",
    "            break\n",
    "    print(''.join(itos[i] for i in out))"
   ]
  },
  {
   "cell_type": "code",
   "execution_count": null,
   "id": "40a2ccb0-6c1c-4f8c-8c89-e9ee465f58e8",
   "metadata": {},
   "outputs": [],
   "source": []
  }
 ],
 "metadata": {
  "kernelspec": {
   "display_name": "Python 3 (ipykernel)",
   "language": "python",
   "name": "python3"
  },
  "language_info": {
   "codemirror_mode": {
    "name": "ipython",
    "version": 3
   },
   "file_extension": ".py",
   "mimetype": "text/x-python",
   "name": "python",
   "nbconvert_exporter": "python",
   "pygments_lexer": "ipython3",
   "version": "3.10.11"
  }
 },
 "nbformat": 4,
 "nbformat_minor": 5
}
